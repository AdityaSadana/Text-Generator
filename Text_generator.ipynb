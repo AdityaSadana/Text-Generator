{
  "cells": [
    {
      "cell_type": "markdown",
      "metadata": {
        "id": "view-in-github",
        "colab_type": "text"
      },
      "source": [
        "<a href=\"https://colab.research.google.com/github/AdityaSadana/Text-Generator/blob/main/Text_generator.ipynb\" target=\"_parent\"><img src=\"https://colab.research.google.com/assets/colab-badge.svg\" alt=\"Open In Colab\"/></a>"
      ]
    },
    {
      "cell_type": "code",
      "source": [
        "import requests\n",
        "response=requests.get(\"http://www.shakespeares-sonnets.com/sonnet/all.php\")"
      ],
      "metadata": {
        "id": "L71G0prG_gq9"
      },
      "execution_count": 1,
      "outputs": []
    },
    {
      "cell_type": "code",
      "source": [
        "from bs4 import BeautifulSoup\n",
        "soup=BeautifulSoup(response.content)"
      ],
      "metadata": {
        "id": "shHN9J-hDRKV"
      },
      "execution_count": 2,
      "outputs": []
    },
    {
      "cell_type": "code",
      "source": [
        "text=\"\"\n",
        "for row in soup.findAll('p'):\n",
        "  text+=row.text"
      ],
      "metadata": {
        "id": "so81WOhfD4rv"
      },
      "execution_count": 3,
      "outputs": []
    },
    {
      "cell_type": "code",
      "source": [
        "import string\n",
        "\n",
        "def remove_punc(text):\n",
        "  for j in string.punctuation:\n",
        "    text=text.replace(j,\" \")\n",
        "\n",
        "  return text.replace(\"\\n\",\" \")"
      ],
      "metadata": {
        "id": "Y6pCyZTYNdfI"
      },
      "execution_count": 4,
      "outputs": []
    },
    {
      "cell_type": "code",
      "source": [
        "import nltk\n",
        "from nltk.corpus import stopwords\n",
        "from nltk.stem import WordNetLemmatizer\n",
        "from nltk.tokenize import word_tokenize\n",
        "\n",
        "nltk.download('stopwords')\n",
        "nltk.download('punkt')\n",
        "nltk.download('wordnet')\n",
        "stopwords=stopwords.words(\"english\")\n",
        "lemmatizer=WordNetLemmatizer()\n",
        "words=[lemmatizer.lemmatize(word.lower()) for word in word_tokenize(remove_punc(text)) if word not in stopwords]\n",
        "\n",
        "len(words)"
      ],
      "metadata": {
        "id": "y9MZHHVcEJ0P",
        "outputId": "087cbd3d-6fe9-48f0-ee92-14d76be0c8c9",
        "colab": {
          "base_uri": "https://localhost:8080/"
        }
      },
      "execution_count": 5,
      "outputs": [
        {
          "output_type": "stream",
          "name": "stdout",
          "text": [
            "[nltk_data] Downloading package stopwords to /root/nltk_data...\n",
            "[nltk_data]   Unzipping corpora/stopwords.zip.\n",
            "[nltk_data] Downloading package punkt to /root/nltk_data...\n",
            "[nltk_data]   Unzipping tokenizers/punkt.zip.\n",
            "[nltk_data] Downloading package wordnet to /root/nltk_data...\n",
            "[nltk_data]   Unzipping corpora/wordnet.zip.\n"
          ]
        },
        {
          "output_type": "execute_result",
          "data": {
            "text/plain": [
              "11711"
            ]
          },
          "metadata": {},
          "execution_count": 5
        }
      ]
    },
    {
      "cell_type": "code",
      "source": [
        "word_mapper={}\n",
        "index_mapper={}\n",
        "i=0\n",
        "for word in words:\n",
        "  if word not in word_mapper:\n",
        "    word_mapper[word]=i\n",
        "    index_mapper[i]=word\n",
        "    i+=1\n",
        "\n",
        "len(word_mapper)"
      ],
      "metadata": {
        "id": "VpQiuVG4NW7t",
        "outputId": "84259a24-12bc-405a-af03-c2cde0d66f1a",
        "colab": {
          "base_uri": "https://localhost:8080/"
        }
      },
      "execution_count": 6,
      "outputs": [
        {
          "output_type": "execute_result",
          "data": {
            "text/plain": [
              "2963"
            ]
          },
          "metadata": {},
          "execution_count": 6
        }
      ]
    },
    {
      "cell_type": "code",
      "source": [
        "encoded_text=[]\n",
        "for word in words:\n",
        "  encoded_text.append(word_mapper[word])"
      ],
      "metadata": {
        "id": "SYQ3pHuCONQe"
      },
      "execution_count": 7,
      "outputs": []
    },
    {
      "cell_type": "code",
      "source": [
        "train_x=[]\n",
        "train_y=[]\n",
        "\n",
        "length=5\n",
        "for i in range(length,len(encoded_text)):\n",
        "  train_x.append(encoded_text[i-length:i])\n",
        "  train_y.append(encoded_text[i])"
      ],
      "metadata": {
        "id": "r6_-SpdMRrVZ"
      },
      "execution_count": 8,
      "outputs": []
    },
    {
      "cell_type": "code",
      "source": [
        "import numpy as np\n",
        "from tensorflow.keras.utils import to_categorical\n",
        "\n",
        "vocab_size=len(word_mapper)\n",
        "train_x=np.array(train_x)\n",
        "train_y=np.array(train_y)\n",
        "\n",
        "train_x.shape, train_y.shape, train_x[0], train_y[0]"
      ],
      "metadata": {
        "id": "5XhfyrfCSXad",
        "colab": {
          "base_uri": "https://localhost:8080/"
        },
        "outputId": "ef7047a0-d3cb-4e4c-deae-ec43260e50ec"
      },
      "execution_count": 9,
      "outputs": [
        {
          "output_type": "execute_result",
          "data": {
            "text/plain": [
              "((11706, 5), (11706,), array([0, 1, 2, 3, 4]), 5)"
            ]
          },
          "metadata": {},
          "execution_count": 9
        }
      ]
    },
    {
      "cell_type": "code",
      "source": [
        "from tensorflow.keras.models import Sequential\n",
        "from tensorflow.keras.layers import Dense, LSTM, Embedding\n",
        "\n",
        "model=Sequential()\n",
        "model.add(Embedding(vocab_size, 50, input_length=length))\n",
        "model.add(LSTM(100, return_sequences=True))\n",
        "model.add(LSTM(100))\n",
        "model.add(Dense(100, activation='relu'))\n",
        "model.add(Dense(vocab_size, activation='softmax'))\n",
        "\n",
        "model.summary()"
      ],
      "metadata": {
        "id": "wINE0_dlSeDd",
        "colab": {
          "base_uri": "https://localhost:8080/"
        },
        "outputId": "999980f0-cf48-486e-dc3b-011cd77c2e38"
      },
      "execution_count": 10,
      "outputs": [
        {
          "output_type": "stream",
          "name": "stdout",
          "text": [
            "Model: \"sequential\"\n",
            "_________________________________________________________________\n",
            " Layer (type)                Output Shape              Param #   \n",
            "=================================================================\n",
            " embedding (Embedding)       (None, 5, 50)             148150    \n",
            "                                                                 \n",
            " lstm (LSTM)                 (None, 5, 100)            60400     \n",
            "                                                                 \n",
            " lstm_1 (LSTM)               (None, 100)               80400     \n",
            "                                                                 \n",
            " dense (Dense)               (None, 100)               10100     \n",
            "                                                                 \n",
            " dense_1 (Dense)             (None, 2963)              299263    \n",
            "                                                                 \n",
            "=================================================================\n",
            "Total params: 598,313\n",
            "Trainable params: 598,313\n",
            "Non-trainable params: 0\n",
            "_________________________________________________________________\n"
          ]
        }
      ]
    },
    {
      "cell_type": "code",
      "source": [
        "model.compile(optimizer=\"adam\", loss=\"sparse_categorical_crossentropy\",metrics=['accuracy'])\n",
        "model.fit(train_x, train_y,epochs=100)"
      ],
      "metadata": {
        "colab": {
          "base_uri": "https://localhost:8080/"
        },
        "id": "MOm6YwJxDzi2",
        "outputId": "03660fc6-b751-4a94-e832-2b5b0cf28ef6"
      },
      "execution_count": 11,
      "outputs": [
        {
          "output_type": "stream",
          "name": "stdout",
          "text": [
            "Epoch 1/100\n",
            "366/366 [==============================] - 9s 7ms/step - loss: 7.2730 - accuracy: 0.0278\n",
            "Epoch 2/100\n",
            "366/366 [==============================] - 2s 6ms/step - loss: 6.9005 - accuracy: 0.0294\n",
            "Epoch 3/100\n",
            "366/366 [==============================] - 2s 6ms/step - loss: 6.8476 - accuracy: 0.0299\n",
            "Epoch 4/100\n",
            "366/366 [==============================] - 2s 6ms/step - loss: 6.7900 - accuracy: 0.0286\n",
            "Epoch 5/100\n",
            "366/366 [==============================] - 2s 6ms/step - loss: 6.6868 - accuracy: 0.0301\n",
            "Epoch 6/100\n",
            "366/366 [==============================] - 2s 7ms/step - loss: 6.5860 - accuracy: 0.0287\n",
            "Epoch 7/100\n",
            "366/366 [==============================] - 2s 6ms/step - loss: 6.4822 - accuracy: 0.0302\n",
            "Epoch 8/100\n",
            "366/366 [==============================] - 2s 6ms/step - loss: 6.3530 - accuracy: 0.0327\n",
            "Epoch 9/100\n",
            "366/366 [==============================] - 2s 6ms/step - loss: 6.2118 - accuracy: 0.0332\n",
            "Epoch 10/100\n",
            "366/366 [==============================] - 2s 6ms/step - loss: 6.0523 - accuracy: 0.0356\n",
            "Epoch 11/100\n",
            "366/366 [==============================] - 2s 6ms/step - loss: 5.8848 - accuracy: 0.0393\n",
            "Epoch 12/100\n",
            "366/366 [==============================] - 2s 6ms/step - loss: 5.7186 - accuracy: 0.0438\n",
            "Epoch 13/100\n",
            "366/366 [==============================] - 2s 6ms/step - loss: 5.5492 - accuracy: 0.0466\n",
            "Epoch 14/100\n",
            "366/366 [==============================] - 2s 6ms/step - loss: 5.3757 - accuracy: 0.0534\n",
            "Epoch 15/100\n",
            "366/366 [==============================] - 2s 6ms/step - loss: 5.2092 - accuracy: 0.0605\n",
            "Epoch 16/100\n",
            "366/366 [==============================] - 2s 6ms/step - loss: 5.0328 - accuracy: 0.0736\n",
            "Epoch 17/100\n",
            "366/366 [==============================] - 2s 6ms/step - loss: 4.8530 - accuracy: 0.0873\n",
            "Epoch 18/100\n",
            "366/366 [==============================] - 2s 6ms/step - loss: 4.6722 - accuracy: 0.0950\n",
            "Epoch 19/100\n",
            "366/366 [==============================] - 2s 6ms/step - loss: 4.4610 - accuracy: 0.1126\n",
            "Epoch 20/100\n",
            "366/366 [==============================] - 2s 6ms/step - loss: 4.2582 - accuracy: 0.1310\n",
            "Epoch 21/100\n",
            "366/366 [==============================] - 2s 6ms/step - loss: 4.0531 - accuracy: 0.1563\n",
            "Epoch 22/100\n",
            "366/366 [==============================] - 2s 6ms/step - loss: 3.8405 - accuracy: 0.1811\n",
            "Epoch 23/100\n",
            "366/366 [==============================] - 2s 6ms/step - loss: 3.6278 - accuracy: 0.2107\n",
            "Epoch 24/100\n",
            "366/366 [==============================] - 2s 6ms/step - loss: 3.4111 - accuracy: 0.2409\n",
            "Epoch 25/100\n",
            "366/366 [==============================] - 2s 6ms/step - loss: 3.2040 - accuracy: 0.2811\n",
            "Epoch 26/100\n",
            "366/366 [==============================] - 2s 6ms/step - loss: 2.9916 - accuracy: 0.3190\n",
            "Epoch 27/100\n",
            "366/366 [==============================] - 2s 6ms/step - loss: 2.7720 - accuracy: 0.3588\n",
            "Epoch 28/100\n",
            "366/366 [==============================] - 2s 6ms/step - loss: 2.5905 - accuracy: 0.3954\n",
            "Epoch 29/100\n",
            "366/366 [==============================] - 2s 6ms/step - loss: 2.4034 - accuracy: 0.4390\n",
            "Epoch 30/100\n",
            "366/366 [==============================] - 2s 6ms/step - loss: 2.2178 - accuracy: 0.4797\n",
            "Epoch 31/100\n",
            "366/366 [==============================] - 2s 6ms/step - loss: 2.0514 - accuracy: 0.5184\n",
            "Epoch 32/100\n",
            "366/366 [==============================] - 2s 6ms/step - loss: 1.9174 - accuracy: 0.5447\n",
            "Epoch 33/100\n",
            "366/366 [==============================] - 2s 6ms/step - loss: 1.7616 - accuracy: 0.5882\n",
            "Epoch 34/100\n",
            "366/366 [==============================] - 2s 6ms/step - loss: 1.6318 - accuracy: 0.6121\n",
            "Epoch 35/100\n",
            "366/366 [==============================] - 2s 6ms/step - loss: 1.4887 - accuracy: 0.6486\n",
            "Epoch 36/100\n",
            "366/366 [==============================] - 2s 6ms/step - loss: 1.3760 - accuracy: 0.6763\n",
            "Epoch 37/100\n",
            "366/366 [==============================] - 2s 6ms/step - loss: 1.2975 - accuracy: 0.6843\n",
            "Epoch 38/100\n",
            "366/366 [==============================] - 2s 6ms/step - loss: 1.2011 - accuracy: 0.7154\n",
            "Epoch 39/100\n",
            "366/366 [==============================] - 2s 6ms/step - loss: 1.0908 - accuracy: 0.7394\n",
            "Epoch 40/100\n",
            "366/366 [==============================] - 2s 6ms/step - loss: 0.9993 - accuracy: 0.7620\n",
            "Epoch 41/100\n",
            "366/366 [==============================] - 2s 6ms/step - loss: 0.9311 - accuracy: 0.7766\n",
            "Epoch 42/100\n",
            "366/366 [==============================] - 2s 6ms/step - loss: 0.8483 - accuracy: 0.8011\n",
            "Epoch 43/100\n",
            "366/366 [==============================] - 2s 6ms/step - loss: 0.7787 - accuracy: 0.8181\n",
            "Epoch 44/100\n",
            "366/366 [==============================] - 2s 6ms/step - loss: 0.7319 - accuracy: 0.8298\n",
            "Epoch 45/100\n",
            "366/366 [==============================] - 2s 6ms/step - loss: 0.6806 - accuracy: 0.8407\n",
            "Epoch 46/100\n",
            "366/366 [==============================] - 2s 6ms/step - loss: 0.6497 - accuracy: 0.8467\n",
            "Epoch 47/100\n",
            "366/366 [==============================] - 2s 6ms/step - loss: 0.5804 - accuracy: 0.8666\n",
            "Epoch 48/100\n",
            "366/366 [==============================] - 2s 6ms/step - loss: 0.5223 - accuracy: 0.8789\n",
            "Epoch 49/100\n",
            "366/366 [==============================] - 2s 6ms/step - loss: 0.4721 - accuracy: 0.8937\n",
            "Epoch 50/100\n",
            "366/366 [==============================] - 2s 6ms/step - loss: 0.4378 - accuracy: 0.9003\n",
            "Epoch 51/100\n",
            "366/366 [==============================] - 2s 6ms/step - loss: 0.4184 - accuracy: 0.9056\n",
            "Epoch 52/100\n",
            "366/366 [==============================] - 2s 6ms/step - loss: 0.4027 - accuracy: 0.9056\n",
            "Epoch 53/100\n",
            "366/366 [==============================] - 2s 6ms/step - loss: 0.4117 - accuracy: 0.9065\n",
            "Epoch 54/100\n",
            "366/366 [==============================] - 2s 6ms/step - loss: 0.3650 - accuracy: 0.9172\n",
            "Epoch 55/100\n",
            "366/366 [==============================] - 2s 6ms/step - loss: 0.3109 - accuracy: 0.9334\n",
            "Epoch 56/100\n",
            "366/366 [==============================] - 2s 6ms/step - loss: 0.2614 - accuracy: 0.9438\n",
            "Epoch 57/100\n",
            "366/366 [==============================] - 2s 6ms/step - loss: 0.2220 - accuracy: 0.9569\n",
            "Epoch 58/100\n",
            "366/366 [==============================] - 2s 6ms/step - loss: 0.2553 - accuracy: 0.9427\n",
            "Epoch 59/100\n",
            "366/366 [==============================] - 2s 6ms/step - loss: 0.2971 - accuracy: 0.9292\n",
            "Epoch 60/100\n",
            "366/366 [==============================] - 2s 6ms/step - loss: 0.2846 - accuracy: 0.9310\n",
            "Epoch 61/100\n",
            "366/366 [==============================] - 2s 6ms/step - loss: 0.2324 - accuracy: 0.9484\n",
            "Epoch 62/100\n",
            "366/366 [==============================] - 2s 6ms/step - loss: 0.1947 - accuracy: 0.9586\n",
            "Epoch 63/100\n",
            "366/366 [==============================] - 2s 6ms/step - loss: 0.1406 - accuracy: 0.9738\n",
            "Epoch 64/100\n",
            "366/366 [==============================] - 2s 6ms/step - loss: 0.1206 - accuracy: 0.9808\n",
            "Epoch 65/100\n",
            "366/366 [==============================] - 2s 6ms/step - loss: 0.1246 - accuracy: 0.9780\n",
            "Epoch 66/100\n",
            "366/366 [==============================] - 2s 6ms/step - loss: 0.1915 - accuracy: 0.9574\n",
            "Epoch 67/100\n",
            "366/366 [==============================] - 2s 6ms/step - loss: 0.3230 - accuracy: 0.9169\n",
            "Epoch 68/100\n",
            "366/366 [==============================] - 2s 6ms/step - loss: 0.2933 - accuracy: 0.9258\n",
            "Epoch 69/100\n",
            "366/366 [==============================] - 2s 6ms/step - loss: 0.1967 - accuracy: 0.9557\n",
            "Epoch 70/100\n",
            "366/366 [==============================] - 2s 6ms/step - loss: 0.0959 - accuracy: 0.9822\n",
            "Epoch 71/100\n",
            "366/366 [==============================] - 2s 6ms/step - loss: 0.0517 - accuracy: 0.9944\n",
            "Epoch 72/100\n",
            "366/366 [==============================] - 2s 6ms/step - loss: 0.0308 - accuracy: 0.9981\n",
            "Epoch 73/100\n",
            "366/366 [==============================] - 2s 6ms/step - loss: 0.0234 - accuracy: 0.9985\n",
            "Epoch 74/100\n",
            "366/366 [==============================] - 2s 6ms/step - loss: 0.0200 - accuracy: 0.9985\n",
            "Epoch 75/100\n",
            "366/366 [==============================] - 2s 6ms/step - loss: 0.0805 - accuracy: 0.9813\n",
            "Epoch 76/100\n",
            "366/366 [==============================] - 2s 6ms/step - loss: 0.7388 - accuracy: 0.8037\n",
            "Epoch 77/100\n",
            "366/366 [==============================] - 2s 6ms/step - loss: 0.3488 - accuracy: 0.8998\n",
            "Epoch 78/100\n",
            "366/366 [==============================] - 2s 6ms/step - loss: 0.1257 - accuracy: 0.9702\n",
            "Epoch 79/100\n",
            "366/366 [==============================] - 2s 6ms/step - loss: 0.0579 - accuracy: 0.9921\n",
            "Epoch 80/100\n",
            "366/366 [==============================] - 2s 6ms/step - loss: 0.0262 - accuracy: 0.9984\n",
            "Epoch 81/100\n",
            "366/366 [==============================] - 2s 6ms/step - loss: 0.0145 - accuracy: 0.9994\n",
            "Epoch 82/100\n",
            "366/366 [==============================] - 2s 6ms/step - loss: 0.0120 - accuracy: 0.9996\n",
            "Epoch 83/100\n",
            "366/366 [==============================] - 2s 6ms/step - loss: 0.0088 - accuracy: 0.9996\n",
            "Epoch 84/100\n",
            "366/366 [==============================] - 2s 6ms/step - loss: 0.0069 - accuracy: 0.9998\n",
            "Epoch 85/100\n",
            "366/366 [==============================] - 2s 6ms/step - loss: 0.0065 - accuracy: 0.9997\n",
            "Epoch 86/100\n",
            "366/366 [==============================] - 2s 6ms/step - loss: 0.0057 - accuracy: 0.9997\n",
            "Epoch 87/100\n",
            "366/366 [==============================] - 2s 6ms/step - loss: 0.2202 - accuracy: 0.9446\n",
            "Epoch 88/100\n",
            "366/366 [==============================] - 2s 6ms/step - loss: 0.9696 - accuracy: 0.7477\n",
            "Epoch 89/100\n",
            "366/366 [==============================] - 2s 6ms/step - loss: 0.3066 - accuracy: 0.9154\n",
            "Epoch 90/100\n",
            "366/366 [==============================] - 2s 6ms/step - loss: 0.0822 - accuracy: 0.9849\n",
            "Epoch 91/100\n",
            "366/366 [==============================] - 2s 6ms/step - loss: 0.0267 - accuracy: 0.9978\n",
            "Epoch 92/100\n",
            "366/366 [==============================] - 2s 6ms/step - loss: 0.0144 - accuracy: 0.9991\n",
            "Epoch 93/100\n",
            "366/366 [==============================] - 2s 6ms/step - loss: 0.0090 - accuracy: 0.9997\n",
            "Epoch 94/100\n",
            "366/366 [==============================] - 2s 6ms/step - loss: 0.0073 - accuracy: 0.9997\n",
            "Epoch 95/100\n",
            "366/366 [==============================] - 2s 6ms/step - loss: 0.0064 - accuracy: 0.9997\n",
            "Epoch 96/100\n",
            "366/366 [==============================] - 2s 6ms/step - loss: 0.0056 - accuracy: 0.9997\n",
            "Epoch 97/100\n",
            "366/366 [==============================] - 2s 6ms/step - loss: 0.0054 - accuracy: 0.9997\n",
            "Epoch 98/100\n",
            "366/366 [==============================] - 2s 6ms/step - loss: 0.0043 - accuracy: 0.9998\n",
            "Epoch 99/100\n",
            "366/366 [==============================] - 2s 6ms/step - loss: 0.0044 - accuracy: 0.9997\n",
            "Epoch 100/100\n",
            "366/366 [==============================] - 2s 6ms/step - loss: 0.0066 - accuracy: 0.9994\n"
          ]
        },
        {
          "output_type": "execute_result",
          "data": {
            "text/plain": [
              "<keras.callbacks.History at 0x7f1d80156d50>"
            ]
          },
          "metadata": {},
          "execution_count": 11
        }
      ]
    },
    {
      "cell_type": "code",
      "source": [
        "input_text=\"And his love-kindling fire did quickly\"\n",
        "encoded_text=[]\n",
        "\n",
        "clean_text=[lemmatizer.lemmatize(word.lower()) for word in word_tokenize(remove_punc(input_text)) if word not in stopwords]\n",
        "print(clean_text)\n",
        "for word in clean_text:\n",
        "  if word in word_mapper:\n",
        "    encoded_text.append(word_mapper[word])\n",
        "\n",
        "if len(encoded_text)>=length: encoded_text=encoded_text[-length:]\n",
        "else: encoded_text=[vocab_size]*(length-len(encoded_text))+encoded_text"
      ],
      "metadata": {
        "colab": {
          "base_uri": "https://localhost:8080/"
        },
        "id": "zxlNE-NtER_-",
        "outputId": "50055a2a-22e6-41aa-fe5b-080171edd0ad"
      },
      "execution_count": 20,
      "outputs": [
        {
          "output_type": "stream",
          "name": "stdout",
          "text": [
            "['and', 'love', 'kindling', 'fire', 'quickly']\n"
          ]
        }
      ]
    },
    {
      "cell_type": "code",
      "source": [
        "pred=model.predict(np.array([encoded_text]))\n",
        "word_index=np.argmax(pred)"
      ],
      "metadata": {
        "id": "x600_ZboM2sk"
      },
      "execution_count": 21,
      "outputs": []
    },
    {
      "cell_type": "code",
      "source": [
        "index_mapper[word_index]"
      ],
      "metadata": {
        "colab": {
          "base_uri": "https://localhost:8080/",
          "height": 35
        },
        "id": "5IocVUd_P1V3",
        "outputId": "d53905cb-533b-4189-bfdf-de79dfd39dea"
      },
      "execution_count": 22,
      "outputs": [
        {
          "output_type": "execute_result",
          "data": {
            "application/vnd.google.colaboratory.intrinsic+json": {
              "type": "string"
            },
            "text/plain": [
              "'steep'"
            ]
          },
          "metadata": {},
          "execution_count": 22
        }
      ]
    },
    {
      "cell_type": "code",
      "source": [
        "model.save(\"Text-generator.h5\")"
      ],
      "metadata": {
        "id": "RGLQ1IE7QPkd"
      },
      "execution_count": 23,
      "outputs": []
    },
    {
      "cell_type": "code",
      "source": [
        "import pickle\n",
        "\n",
        "file=open(\"word-mapper.pkl\",\"wb\")\n",
        "pickle.dump(word_mapper,file)\n",
        "file=open(\"index-mapper.pkl\",\"wb\")\n",
        "pickle.dump(index_mapper,file)"
      ],
      "metadata": {
        "id": "RYxwp66EIygu"
      },
      "execution_count": 25,
      "outputs": []
    }
  ],
  "metadata": {
    "colab": {
      "collapsed_sections": [],
      "name": "Text generator",
      "provenance": [],
      "include_colab_link": true
    },
    "kernelspec": {
      "display_name": "Python 3",
      "name": "python3"
    },
    "accelerator": "GPU"
  },
  "nbformat": 4,
  "nbformat_minor": 0
}